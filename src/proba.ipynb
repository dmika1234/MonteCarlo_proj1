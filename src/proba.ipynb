{
 "cells": [
  {
   "cell_type": "code",
   "execution_count": 95,
   "metadata": {
    "collapsed": true,
    "pycharm": {
     "name": "#%%\n"
    }
   },
   "outputs": [],
   "source": [
    "import os\n",
    "import numpy as np\n",
    "from tests import *\n",
    "from functools import partial\n",
    "import pickle\n",
    "from scipy.special import erfc, gammainc"
   ]
  },
  {
   "cell_type": "code",
   "execution_count": 2,
   "outputs": [],
   "source": [
    "os.chdir('../')"
   ],
   "metadata": {
    "collapsed": false,
    "pycharm": {
     "name": "#%%\n"
    }
   }
  },
  {
   "cell_type": "code",
   "execution_count": 144,
   "outputs": [],
   "source": [
    "def compute_nrs_in_bins(points, partition):\n",
    "    bins = np.zeros(len(partition) - 1)\n",
    "\n",
    "    for i in range(len(bins)):\n",
    "        ffrom = partition[i]\n",
    "        tto = partition[i + 1]\n",
    "        bins[i] = ((points > ffrom) & (points <= tto)).sum()\n",
    "    # bins_probs[i]=tto-ffrom\n",
    "\n",
    "    return bins"
   ],
   "metadata": {
    "collapsed": false,
    "pycharm": {
     "name": "#%%\n"
    }
   }
  },
  {
   "cell_type": "code",
   "execution_count": 107,
   "outputs": [],
   "source": [
    "partition = np.append((np.arange(10) / 10), 1)"
   ],
   "metadata": {
    "collapsed": false,
    "pycharm": {
     "name": "#%%\n"
    }
   }
  },
  {
   "cell_type": "code",
   "execution_count": null,
   "outputs": [],
   "source": [
    "string = '''\n",
    "110010010000111111011010\n",
    "   1010001000100001011010001\n",
    "   1000010001101001100010011\n",
    "   0001100110001010001011100\n",
    "   0000011011100000111001101\n",
    "   0001001010010000001001001\n",
    "   1100000100010001010011001\n",
    "   1111001100011101000000001\n",
    "   0000010111011111010100110\n",
    "   0011101100010011100110110\n",
    "   0100010010100010100101000\n",
    "   0010000111100110001110001\n",
    "   1010000000100110111011110\n",
    "   1111100101010001100110110\n",
    "   0111100110100111010010000\n",
    "   1100011011001100000010101\n",
    "   1000010100110110111110\n",
    "   '''"
   ],
   "metadata": {
    "collapsed": false,
    "pycharm": {
     "name": "#%%\n"
    }
   }
  }
 ],
 "metadata": {
  "kernelspec": {
   "display_name": "Python 3",
   "language": "python",
   "name": "python3"
  },
  "language_info": {
   "codemirror_mode": {
    "name": "ipython",
    "version": 2
   },
   "file_extension": ".py",
   "mimetype": "text/x-python",
   "name": "python",
   "nbconvert_exporter": "python",
   "pygments_lexer": "ipython2",
   "version": "2.7.6"
  }
 },
 "nbformat": 4,
 "nbformat_minor": 0
}